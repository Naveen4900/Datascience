{
 "cells": [
  {
   "cell_type": "markdown",
   "id": "48b81059-9765-40a3-a516-4256c24d72b5",
   "metadata": {},
   "source": [
    "# Data Science Tools and Ecosystem"
   ]
  },
  {
   "cell_type": "markdown",
   "id": "8911e0a4-cb7b-43ce-9ae1-7fafb1845e50",
   "metadata": {},
   "source": [
    "In this notebook, Data Science Tools and Ecosystem are summarized."
   ]
  },
  {
   "cell_type": "markdown",
   "id": "e0adbd95-82b8-4d79-acdb-e9ed62900eea",
   "metadata": {},
   "source": [
    "**Objectives:**\n",
    "\n",
    "- List popular programming languages used in Data Science.\n",
    "- Understand basic arithmetic expressions and operations in Python.\n",
    "- Learn how to convert between units (e.g., minutes to hours).\n",
    "- Explore some of the common libraries used by Data Scientists.\n",
    "- Identify key development tools and environments for Data Science.\n"
   ]
  },
  {
   "cell_type": "markdown",
   "id": "2025d578-66ac-470d-9889-84b9bf3d4625",
   "metadata": {},
   "source": [
    "Some of the popular languages that Data Scientists use are:\n",
    "1. Python\n",
    "2. Java\n",
    "3. R\n",
    "4. julia"
   ]
  },
  {
   "cell_type": "markdown",
   "id": "98b2d8ad-72b8-4703-b0d1-f88bcc427c6e",
   "metadata": {},
   "source": [
    "Some of the commonly used libraries used by Data Scientists include:\n",
    "1. pandas\n",
    "2. matplotlib\n",
    "3. numpy\n",
    "4. seaborn"
   ]
  },
  {
   "cell_type": "markdown",
   "id": "c719320b-8bbd-4907-848b-fb3d67e2f586",
   "metadata": {},
   "source": [
    "|Data Science Tools       |\n",
    "|-------------------------|\n",
    "|pandas                   |\n",
    "|Apache spark             |\n",
    "|Scikit                   |"
   ]
  },
  {
   "cell_type": "markdown",
   "id": "1248b54f-7c3a-41cb-9e8c-e7ef9ba31661",
   "metadata": {},
   "source": [
    "### Below are a few examples of evaluating arithmetic expressions in Python:\n",
    "\n",
    "- **Addition**: `5 + 3 = 8`\n",
    "- **Subtraction**: `10 - 4 = 6`\n",
    "- **Multiplication**: `7 * 2 = 14`\n",
    "- **Division**: `20 / 4 = 5.0`\n",
    "- **Exponentiation**: `2 ** 3 = 8`\n",
    "- **Modulo**: `10 % 3 = 1`"
   ]
  },
  {
   "cell_type": "code",
   "execution_count": 31,
   "id": "aec65263-718e-4fa7-be7f-b681bd7ce001",
   "metadata": {},
   "outputs": [
    {
     "data": {
      "text/plain": [
       "17"
      ]
     },
     "execution_count": 31,
     "metadata": {},
     "output_type": "execute_result"
    }
   ],
   "source": [
    "# This a simple arithmetic expression to mutiply then add integers\n",
    "result = (3 * 4) + 5\n",
    "result"
   ]
  },
  {
   "cell_type": "code",
   "execution_count": 33,
   "id": "b6a6c8d7-3a65-44f4-bcd6-cdfc95a67224",
   "metadata": {},
   "outputs": [
    {
     "data": {
      "text/plain": [
       "3.3333333333333335"
      ]
     },
     "execution_count": 33,
     "metadata": {},
     "output_type": "execute_result"
    }
   ],
   "source": [
    "# This will convert 200 minutes to hours by dividing by 60\n",
    "minutes = 200\n",
    "hours = minutes / 60\n",
    "hours"
   ]
  },
  {
   "cell_type": "markdown",
   "id": "3a404ab5-820b-450e-8702-d8b5b8373de9",
   "metadata": {},
   "source": [
    "## Author\n",
    "Venkata naveen.Regula"
   ]
  },
  {
   "cell_type": "markdown",
   "id": "66e93620-999b-4c41-a5c7-21d1cab5b873",
   "metadata": {},
   "source": []
  }
 ],
 "metadata": {
  "kernelspec": {
   "display_name": "Python [conda env:base] *",
   "language": "python",
   "name": "conda-base-py"
  },
  "language_info": {
   "codemirror_mode": {
    "name": "ipython",
    "version": 3
   },
   "file_extension": ".py",
   "mimetype": "text/x-python",
   "name": "python",
   "nbconvert_exporter": "python",
   "pygments_lexer": "ipython3",
   "version": "3.12.7"
  }
 },
 "nbformat": 4,
 "nbformat_minor": 5
}
